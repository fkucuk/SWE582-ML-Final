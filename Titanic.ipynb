{
 "cells": [
  {
   "cell_type": "code",
   "execution_count": 1,
   "metadata": {
    "_cell_guid": "ccd73186-d327-47ef-babd-988bf57519a8",
    "_uuid": "ef246fa98023264d10f77e6892b08967303ef799"
   },
   "outputs": [
    {
     "name": "stderr",
     "output_type": "stream",
     "text": [
      "Using TensorFlow backend.\n"
     ]
    },
    {
     "name": "stdout",
     "output_type": "stream",
     "text": [
      "<class 'pandas.core.frame.DataFrame'>\n",
      "RangeIndex: 1309 entries, 0 to 1308\n",
      "Data columns (total 13 columns):\n",
      "Age            1046 non-null float64\n",
      "Cabin          295 non-null object\n",
      "Embarked       1307 non-null object\n",
      "Fare           1308 non-null float64\n",
      "IsTrain        1309 non-null bool\n",
      "Name           1309 non-null object\n",
      "Parch          1309 non-null int64\n",
      "PassengerId    1309 non-null int64\n",
      "Pclass         1309 non-null int64\n",
      "Sex            1309 non-null object\n",
      "SibSp          1309 non-null int64\n",
      "Survived       891 non-null float64\n",
      "Ticket         1309 non-null object\n",
      "dtypes: bool(1), float64(3), int64(4), object(5)\n",
      "memory usage: 124.1+ KB\n",
      "None\n"
     ]
    }
   ],
   "source": [
    "import numpy as np # linear algebra\n",
    "import pandas as pd # data processing, CSV file I/O (e.g. pd.read_csv)\n",
    "import seaborn as sns\n",
    "import matplotlib.pyplot as plt\n",
    "\n",
    "import keras \n",
    "from keras.models import Sequential # intitialize the ANN\n",
    "from keras.layers import Dense      # create layers\n",
    "\n",
    "train = pd.read_csv('../input/train.csv')\n",
    "test  = pd.read_csv('../input/test.csv')\n",
    "\n",
    "train['IsTrain'] = True\n",
    "test['IsTrain'] = False\n",
    "df = train.append(test, ignore_index = True)\n",
    "\n",
    "print(df.info())"
   ]
  },
  {
   "cell_type": "markdown",
   "metadata": {
    "_cell_guid": "19543350-7deb-47d5-b7bb-9bca6757c992",
    "_uuid": "48b6bc2ab0b99885ca9c7532ed432bda8e50bb6a",
    "collapsed": true
   },
   "source": [
    "## Completing.. ##"
   ]
  },
  {
   "cell_type": "code",
   "execution_count": 2,
   "metadata": {
    "_cell_guid": "a13d41d9-e898-46c8-ab31-031db4dd90b9",
    "_uuid": "62058dae39f33649d71d906aa6c66c7c650cea72"
   },
   "outputs": [
    {
     "name": "stdout",
     "output_type": "stream",
     "text": [
      "Age               0\n",
      "Cabin          1014\n",
      "Embarked          0\n",
      "Fare              1\n",
      "IsTrain           0\n",
      "Name              0\n",
      "Parch             0\n",
      "PassengerId       0\n",
      "Pclass            0\n",
      "Sex               0\n",
      "SibSp             0\n",
      "Survived        418\n",
      "Ticket            0\n",
      "dtype: int64\n"
     ]
    }
   ],
   "source": [
    "#Complete the missing ages with the median.\n",
    "df['Age'].fillna(df['Age'].median(), inplace = True)\n",
    "#Complete the missing embarks with the most embarkeds. \n",
    "df['Embarked'].fillna(df['Embarked'].mode()[0], inplace = True)\n",
    "print(df.isnull().sum())"
   ]
  },
  {
   "cell_type": "markdown",
   "metadata": {
    "_cell_guid": "88a04480-661c-40ce-b713-16c0f00cb609",
    "_uuid": "273ec8578385b0df128e5212004575bd56fa1d79"
   },
   "source": [
    "## Feature Engineering.. ##"
   ]
  },
  {
   "cell_type": "code",
   "execution_count": 3,
   "metadata": {
    "_cell_guid": "abcf14cf-a71c-423b-bb6c-27a1f0bf6b00",
    "_uuid": "749908e89b9a40621a2fe01bd0fb216a53989be4",
    "collapsed": true
   },
   "outputs": [],
   "source": [
    "df['fe_Title'] = df.Name.map( lambda x: x.split(',')[1].split( '.' )[0].strip()) \n",
    "df['fe_SimpleTitle'] = df['fe_Title']\n",
    "df['fe_SimpleTitle'] = df['fe_SimpleTitle'].replace('Mlle', 'Miss')\n",
    "df['fe_SimpleTitle'] = df['fe_SimpleTitle'].replace(['Mme','Lady','Ms'], 'Mrs')\n",
    "df['fe_SimpleTitle'] = df['fe_SimpleTitle'].replace(['Rev','Dr', \n",
    "                                                           'Col', 'Major', 'Don', \n",
    "                                                           'Jonkheer', 'the Countess', 'Sir', \n",
    "                                                           'Dona', 'Capt'], 'Other')\n",
    "\n",
    "#train['fe_SimpleTitle'].value_counts()\n",
    "df['fe_FamilySize'] = df.SibSp + df.Parch + 1\n",
    "\n",
    "#Take the first character of the ticket\n",
    "df.Ticket = df.Ticket.map(lambda x: x[0])\n",
    "\n",
    "df['Ticket'] = df['Ticket'].astype('str') \n",
    "df['Embarked'] = df['Embarked'].astype('str') \n",
    "estimated_Fare = df.Fare.loc[ (df.Ticket == '3') & \n",
    "                             (df.Pclass == 3) & \n",
    "                             (df.Embarked == 'S')].median()\n",
    "                             \n",
    "df.Fare.fillna(estimated_Fare , inplace=True)\n",
    "\n",
    "df['fe_FareGroup'] = pd.qcut(df.Fare,5,labels=[1,2,3,4,5]).astype(int)\n",
    "\n",
    "ageGroups = [ 0, 4, 12, 18, 30, 50, 65, 100]\n",
    "age_index = (1,2,3,4,5,6,7)\n",
    "#('baby','child','teenager','young','mid-age','over-50','old')\n",
    "df['fe_AgeGroup'] = pd.cut(df.Age, ageGroups, labels=age_index).astype(int)\n"
   ]
  },
  {
   "cell_type": "markdown",
   "metadata": {
    "_cell_guid": "d431c202-3e7b-4bd3-af29-d04ffb7d90f7",
    "_uuid": "57b5b70aef9889a58396b8eda27319ae32eed9b7"
   },
   "source": [
    "## Correcting.. ##"
   ]
  },
  {
   "cell_type": "code",
   "execution_count": 4,
   "metadata": {
    "_cell_guid": "ee39719f-3101-434a-8adc-7213c82193f7",
    "_uuid": "b25d9c34ed07fe1a49280b2e59daa65039c57e07",
    "collapsed": true
   },
   "outputs": [],
   "source": [
    "df.Sex = df.Sex.map({'male':0, 'female':1, 0:0, 1:1})\n",
    "df.fe_FamilySize = df.fe_FamilySize.map(lambda x: 0 if x > 4 else x)\n",
    "df.Embarked = df.Embarked.map({'C':0, 'Q':1, 'S':2, 0:0, 1:1, 2:2})\n",
    "\n",
    "#Assumption: if family size > 4 then it is classified as \"zero\". \n",
    "#as the family size increases survival rate increases also\n",
    "df[['fe_FamilySize', 'Survived']].groupby(['fe_FamilySize'], as_index=False).mean()\n",
    "\n",
    "\n",
    "\n",
    "#We know there are two missing values for the Embarked, we fill it with the most common\n",
    "df.Embarked.fillna('S' , inplace=True )"
   ]
  },
  {
   "cell_type": "markdown",
   "metadata": {
    "_cell_guid": "76470c66-8a38-4a6a-a731-b5a382023287",
    "_uuid": "b4fb7b9efcbc3198863849999cff3ccdc41cb2d4"
   },
   "source": [
    "## Visualization.. ##"
   ]
  },
  {
   "cell_type": "code",
   "execution_count": 5,
   "metadata": {
    "_cell_guid": "6f3a8b3b-8e90-42d9-8d7d-08f08eeb6fd1",
    "_uuid": "8200c94d04b6a7e6c31658d72b2539f72a3b2289"
   },
   "outputs": [
    {
     "data": {
      "image/png": "[encoded data removed]",
      "text/plain": [
       "<matplotlib.figure.Figure at 0x7f064b132828>"
      ]
     },
     "metadata": {},
     "output_type": "display_data"
    },
    {
     "data": {
      "image/png": "[encoded data removed]",
      "text/plain": [
       "<matplotlib.figure.Figure at 0x7f064b0cc080>"
      ]
     },
     "metadata": {},
     "output_type": "display_data"
    },
    {
     "data": {
      "image/png": "[encoded data removed]",
      "text/plain": [
       "<matplotlib.figure.Figure at 0x7f064743b940>"
      ]
     },
     "metadata": {},
     "output_type": "display_data"
    },
    {
     "data": {
      "image/png": "[encoded data removed]",
      "text/plain": [
       "<matplotlib.figure.Figure at 0x7f0647238320>"
      ]
     },
     "metadata": {},
     "output_type": "display_data"
    },
    {
     "data": {
      "image/png": "[encoded data removed]",
      "text/plain": [
       "<matplotlib.figure.Figure at 0x7f06474ca940>"
      ]
     },
     "metadata": {},
     "output_type": "display_data"
    },
    {
     "data": {
      "image/png": "[encoded data removed]",
      "text/plain": [
       "<matplotlib.figure.Figure at 0x7f06470ee7f0>"
      ]
     },
     "metadata": {},
     "output_type": "display_data"
    }
   ],
   "source": [
    "grid = sns.FacetGrid(df, col='fe_SimpleTitle', size=4, aspect=0.8, sharey=False, \n",
    "                     hue='Survived', palette='Set2')\n",
    "grid.map(plt.hist, 'Age', alpha=.5, bins=range(0,105,5))\n",
    "grid.add_legend()\n",
    "plt.show()\n",
    "\n",
    "grid = sns.FacetGrid(df, col='Pclass', size=4, aspect=0.8, sharey=False, \n",
    "                     hue='Survived', palette='Set1')\n",
    "grid.map(plt.hist, 'Age', alpha=.5, bins=range(0,105,5))\n",
    "grid.add_legend()\n",
    "plt.show()\n",
    "\n",
    "sns.factorplot(x=\"Ticket\", y=\"Fare\", hue=\"Survived\", col=\"Sex\", \n",
    "               kind=\"swarm\",data=df, size = 5, palette={0.0:\"r\", 1.0:\"g\"})\n",
    "\n",
    "pals = ['pink', 'deep', 'ocean', 'magma', 'Blues']\n",
    "\n",
    "features = ['Sex', 'fe_FamilySize', 'Embarked']\n",
    "i = 0\n",
    "for f in features:\n",
    "    sns.factorplot(\"Survived\", col=f, data=df, size=4, kind=\"count\", aspect=.8, palette= pals[i])\n",
    "    i = i + 1"
   ]
  },
  {
   "cell_type": "code",
   "execution_count": 6,
   "metadata": {
    "_cell_guid": "240ef8de-4288-4601-9137-3b429fa29480",
    "_uuid": "387521f5c1e01168f38351d8296ee1e405b24936",
    "collapsed": true
   },
   "outputs": [],
   "source": [
    "#Pivotting\n",
    "if 'Piv_Title_Master' in df.columns:\n",
    "    print(\"You have run this already. Do you want to duplicate your columns?\")\n",
    "else:\n",
    "    df = pd.concat([df, pd.get_dummies(prefix='Piv_Title',data=df['fe_SimpleTitle'])], axis=1)\n",
    "    df = pd.concat([df, pd.get_dummies(prefix='Piv_Ticket',data=df['Ticket'])], axis=1)"
   ]
  },
  {
   "cell_type": "code",
   "execution_count": 7,
   "metadata": {
    "_cell_guid": "a49f79d0-56f0-415a-87dc-1ba47fa208cc",
    "_uuid": "e6ed6c784d3f3f03dfe1df3ecd17dae6420da451"
   },
   "outputs": [
    {
     "name": "stdout",
     "output_type": "stream",
     "text": [
      "Age                    0\n",
      "Cabin               1014\n",
      "Embarked               0\n",
      "Fare                   0\n",
      "IsTrain                0\n",
      "Name                   0\n",
      "Parch                  0\n",
      "PassengerId            0\n",
      "Pclass                 0\n",
      "Sex                    0\n",
      "SibSp                  0\n",
      "Survived             418\n",
      "Ticket                 0\n",
      "fe_Title               0\n",
      "fe_SimpleTitle         0\n",
      "fe_FamilySize          0\n",
      "fe_FareGroup           0\n",
      "fe_AgeGroup            0\n",
      "Piv_Title_Master       0\n",
      "Piv_Title_Miss         0\n",
      "Piv_Title_Mr           0\n",
      "Piv_Title_Mrs          0\n",
      "Piv_Title_Other        0\n",
      "Piv_Ticket_1           0\n",
      "Piv_Ticket_2           0\n",
      "Piv_Ticket_3           0\n",
      "Piv_Ticket_4           0\n",
      "Piv_Ticket_5           0\n",
      "Piv_Ticket_6           0\n",
      "Piv_Ticket_7           0\n",
      "Piv_Ticket_8           0\n",
      "Piv_Ticket_9           0\n",
      "Piv_Ticket_A           0\n",
      "Piv_Ticket_C           0\n",
      "Piv_Ticket_F           0\n",
      "Piv_Ticket_L           0\n",
      "Piv_Ticket_P           0\n",
      "Piv_Ticket_S           0\n",
      "Piv_Ticket_W           0\n",
      "dtype: int64\n"
     ]
    }
   ],
   "source": [
    "#Last Check, no null values. Good to go!\n",
    "print(df.isnull().sum())"
   ]
  },
  {
   "cell_type": "markdown",
   "metadata": {
    "_cell_guid": "17aca10e-2179-4966-96bc-36c3d1d29a30",
    "_uuid": "8df2feffbce61b5d9cfe00e3aff404ba695bb739"
   },
   "source": [
    "We will drop cabin, so we do not care for it now.\n",
    "And the null values from survived comes from the test data."
   ]
  },
  {
   "cell_type": "code",
   "execution_count": 8,
   "metadata": {
    "_cell_guid": "4614880d-598d-415f-b1d4-b331d38321dc",
    "_uuid": "dc629313521c821400adf64b8d9d9b77de552cbe"
   },
   "outputs": [
    {
     "name": "stdout",
     "output_type": "stream",
     "text": [
      "<class 'pandas.core.frame.DataFrame'>\n",
      "RangeIndex: 1309 entries, 0 to 1308\n",
      "Data columns (total 30 columns):\n",
      "Embarked            1309 non-null int64\n",
      "IsTrain             1309 non-null bool\n",
      "PassengerId         1309 non-null int64\n",
      "Pclass              1309 non-null int64\n",
      "Sex                 1309 non-null int64\n",
      "Survived            891 non-null float64\n",
      "fe_FamilySize       1309 non-null int64\n",
      "fe_FareGroup        1309 non-null int64\n",
      "fe_AgeGroup         1309 non-null int64\n",
      "Piv_Title_Master    1309 non-null uint8\n",
      "Piv_Title_Miss      1309 non-null uint8\n",
      "Piv_Title_Mr        1309 non-null uint8\n",
      "Piv_Title_Mrs       1309 non-null uint8\n",
      "Piv_Title_Other     1309 non-null uint8\n",
      "Piv_Ticket_1        1309 non-null uint8\n",
      "Piv_Ticket_2        1309 non-null uint8\n",
      "Piv_Ticket_3        1309 non-null uint8\n",
      "Piv_Ticket_4        1309 non-null uint8\n",
      "Piv_Ticket_5        1309 non-null uint8\n",
      "Piv_Ticket_6        1309 non-null uint8\n",
      "Piv_Ticket_7        1309 non-null uint8\n",
      "Piv_Ticket_8        1309 non-null uint8\n",
      "Piv_Ticket_9        1309 non-null uint8\n",
      "Piv_Ticket_A        1309 non-null uint8\n",
      "Piv_Ticket_C        1309 non-null uint8\n",
      "Piv_Ticket_F        1309 non-null uint8\n",
      "Piv_Ticket_L        1309 non-null uint8\n",
      "Piv_Ticket_P        1309 non-null uint8\n",
      "Piv_Ticket_S        1309 non-null uint8\n",
      "Piv_Ticket_W        1309 non-null uint8\n",
      "dtypes: bool(1), float64(1), int64(7), uint8(21)\n",
      "memory usage: 110.0 KB\n",
      "None\n"
     ]
    }
   ],
   "source": [
    "if 'SibSp' in df.columns:\n",
    "    df = df.drop(labels=['SibSp','Parch','Age','Fare', 'fe_Title', \n",
    "                                   'fe_SimpleTitle', 'Name', 'Cabin', 'Ticket'], axis=1)\n",
    "    \n",
    "print(df.info())"
   ]
  },
  {
   "cell_type": "code",
   "execution_count": 9,
   "metadata": {
    "_cell_guid": "d694ce22-907a-410c-a018-b08ed2b084f8",
    "_uuid": "4abc5ca713729fa34e401e76e71ebd45ebf64720",
    "collapsed": true
   },
   "outputs": [],
   "source": [
    "train = df.loc[df['IsTrain'] == True]\n",
    "test = df.loc[df['IsTrain'] == False]\n",
    "\n",
    "y_train = train.Survived.values\n",
    "X_train = train.drop(['IsTrain', 'Survived', 'PassengerId'], axis=1).values\n",
    "X_test = test.drop(['IsTrain', 'Survived', 'PassengerId'], axis=1).values"
   ]
  },
  {
   "cell_type": "code",
   "execution_count": 10,
   "metadata": {},
   "outputs": [
    {
     "name": "stdout",
     "output_type": "stream",
     "text": [
      "Submission Result: 0.79 Accuracy\n"
     ]
    }
   ],
   "source": [
    "from sklearn.neural_network import MLPClassifier\n",
    "y = train.Survived.values\n",
    "X = train.drop(['IsTrain', 'Survived', 'PassengerId'], axis=1).values\n",
    "X_test1 = test.drop(['IsTrain', 'Survived', 'PassengerId'], axis=1).values\n",
    "\n",
    "clf = MLPClassifier(solver='lbfgs', hidden_layer_sizes=(27,))\n",
    "clf.fit(X, y)  \n",
    "\n",
    "y_pred = clf.predict(X_test1)\n",
    "\n",
    "print(\"Submission Result: 0.79 Accuracy\")"
   ]
  },
  {
   "cell_type": "code",
   "execution_count": 11,
   "metadata": {
    "_cell_guid": "79d5c33b-2853-4220-b954-55a13678475b",
    "_uuid": "29f881fb82bf1f666f8b2cc684a2d8b0905a6394"
   },
   "outputs": [
    {
     "name": "stdout",
     "output_type": "stream",
     "text": [
      "Epoch 1/150\n",
      "891/891 [==============================] - 0s 359us/step - loss: 0.6919 - acc: 0.6049\n",
      "Epoch 2/150\n",
      "891/891 [==============================] - 0s 159us/step - loss: 0.6891 - acc: 0.6162\n",
      "Epoch 3/150\n",
      "891/891 [==============================] - 0s 117us/step - loss: 0.6825 - acc: 0.6162\n",
      "Epoch 4/150\n",
      "891/891 [==============================] - 0s 61us/step - loss: 0.6584 - acc: 0.6409\n",
      "Epoch 5/150\n",
      "891/891 [==============================] - 0s 114us/step - loss: 0.5970 - acc: 0.7553\n",
      "Epoch 6/150\n",
      "891/891 [==============================] - 0s 173us/step - loss: 0.5106 - acc: 0.8070\n",
      "Epoch 7/150\n",
      "891/891 [==============================] - 0s 105us/step - loss: 0.4496 - acc: 0.8204\n",
      "Epoch 8/150\n",
      "891/891 [==============================] - 0s 81us/step - loss: 0.4303 - acc: 0.8283\n",
      "Epoch 9/150\n",
      "891/891 [==============================] - 0s 154us/step - loss: 0.4239 - acc: 0.8272\n",
      "Epoch 10/150\n",
      "891/891 [==============================] - 0s 91us/step - loss: 0.4195 - acc: 0.8305\n",
      "Epoch 11/150\n",
      "891/891 [==============================] - 0s 100us/step - loss: 0.4169 - acc: 0.8328\n",
      "Epoch 12/150\n",
      "891/891 [==============================] - 0s 121us/step - loss: 0.4151 - acc: 0.8373\n",
      "Epoch 13/150\n",
      "891/891 [==============================] - 0s 118us/step - loss: 0.4157 - acc: 0.8373\n",
      "Epoch 14/150\n",
      "891/891 [==============================] - 0s 84us/step - loss: 0.4130 - acc: 0.8395\n",
      "Epoch 15/150\n",
      "891/891 [==============================] - 0s 95us/step - loss: 0.4111 - acc: 0.8350\n",
      "Epoch 16/150\n",
      "891/891 [==============================] - 0s 93us/step - loss: 0.4110 - acc: 0.8339\n",
      "Epoch 17/150\n",
      "891/891 [==============================] - 0s 100us/step - loss: 0.4128 - acc: 0.8283\n",
      "Epoch 18/150\n",
      "891/891 [==============================] - 0s 122us/step - loss: 0.4095 - acc: 0.8350\n",
      "Epoch 19/150\n",
      "891/891 [==============================] - 0s 116us/step - loss: 0.4074 - acc: 0.8384\n",
      "Epoch 20/150\n",
      "891/891 [==============================] - 0s 101us/step - loss: 0.4067 - acc: 0.8451\n",
      "Epoch 21/150\n",
      "891/891 [==============================] - 0s 101us/step - loss: 0.4086 - acc: 0.8316\n",
      "Epoch 22/150\n",
      "891/891 [==============================] - 0s 104us/step - loss: 0.4094 - acc: 0.8339\n",
      "Epoch 23/150\n",
      "891/891 [==============================] - 0s 149us/step - loss: 0.4049 - acc: 0.8339\n",
      "Epoch 24/150\n",
      "891/891 [==============================] - 0s 85us/step - loss: 0.4057 - acc: 0.8485\n",
      "Epoch 25/150\n",
      "891/891 [==============================] - 0s 121us/step - loss: 0.4062 - acc: 0.8316\n",
      "Epoch 26/150\n",
      "891/891 [==============================] - 0s 100us/step - loss: 0.4033 - acc: 0.8384\n",
      "Epoch 27/150\n",
      "891/891 [==============================] - 0s 165us/step - loss: 0.4011 - acc: 0.8462\n",
      "Epoch 28/150\n",
      "891/891 [==============================] - 0s 122us/step - loss: 0.4007 - acc: 0.8373\n",
      "Epoch 29/150\n",
      "891/891 [==============================] - 0s 104us/step - loss: 0.4005 - acc: 0.8373\n",
      "Epoch 30/150\n",
      "891/891 [==============================] - 0s 91us/step - loss: 0.4009 - acc: 0.8384\n",
      "Epoch 31/150\n",
      "891/891 [==============================] - 0s 101us/step - loss: 0.3984 - acc: 0.8384\n",
      "Epoch 32/150\n",
      "891/891 [==============================] - 0s 158us/step - loss: 0.3986 - acc: 0.8474\n",
      "Epoch 33/150\n",
      "891/891 [==============================] - 0s 115us/step - loss: 0.4080 - acc: 0.8249\n",
      "Epoch 34/150\n",
      "891/891 [==============================] - 0s 122us/step - loss: 0.4012 - acc: 0.8272\n",
      "Epoch 35/150\n",
      "891/891 [==============================] - 0s 219us/step - loss: 0.3965 - acc: 0.8384\n",
      "Epoch 36/150\n",
      "891/891 [==============================] - 0s 115us/step - loss: 0.3961 - acc: 0.8451\n",
      "Epoch 37/150\n",
      "891/891 [==============================] - 0s 101us/step - loss: 0.3961 - acc: 0.8406\n",
      "Epoch 38/150\n",
      "891/891 [==============================] - 0s 114us/step - loss: 0.3957 - acc: 0.8440\n",
      "Epoch 39/150\n",
      "891/891 [==============================] - 0s 104us/step - loss: 0.3950 - acc: 0.8418\n",
      "Epoch 40/150\n",
      "891/891 [==============================] - 0s 128us/step - loss: 0.3958 - acc: 0.8406\n",
      "Epoch 41/150\n",
      "891/891 [==============================] - 0s 115us/step - loss: 0.3941 - acc: 0.8418\n",
      "Epoch 42/150\n",
      "891/891 [==============================] - 0s 97us/step - loss: 0.3939 - acc: 0.8474\n",
      "Epoch 43/150\n",
      "891/891 [==============================] - 0s 100us/step - loss: 0.3947 - acc: 0.8395\n",
      "Epoch 44/150\n",
      "891/891 [==============================] - 0s 101us/step - loss: 0.3935 - acc: 0.8440\n",
      "Epoch 45/150\n",
      "891/891 [==============================] - 0s 116us/step - loss: 0.4001 - acc: 0.8339\n",
      "Epoch 46/150\n",
      "891/891 [==============================] - 0s 119us/step - loss: 0.3977 - acc: 0.8395\n",
      "Epoch 47/150\n",
      "891/891 [==============================] - 0s 104us/step - loss: 0.3936 - acc: 0.8406\n",
      "Epoch 48/150\n",
      "891/891 [==============================] - 0s 128us/step - loss: 0.3936 - acc: 0.8418\n",
      "Epoch 49/150\n",
      "891/891 [==============================] - 0s 107us/step - loss: 0.3935 - acc: 0.8339\n",
      "Epoch 50/150\n",
      "891/891 [==============================] - 0s 105us/step - loss: 0.3922 - acc: 0.8429\n",
      "Epoch 51/150\n",
      "891/891 [==============================] - 0s 111us/step - loss: 0.3920 - acc: 0.8462\n",
      "Epoch 52/150\n",
      "891/891 [==============================] - 0s 105us/step - loss: 0.3925 - acc: 0.8418\n",
      "Epoch 53/150\n",
      "891/891 [==============================] - 0s 108us/step - loss: 0.3924 - acc: 0.8350\n",
      "Epoch 54/150\n",
      "891/891 [==============================] - 0s 103us/step - loss: 0.3938 - acc: 0.8339\n",
      "Epoch 55/150\n",
      "891/891 [==============================] - 0s 94us/step - loss: 0.3946 - acc: 0.8305\n",
      "Epoch 56/150\n",
      "891/891 [==============================] - 0s 112us/step - loss: 0.3898 - acc: 0.8406\n",
      "Epoch 57/150\n",
      "891/891 [==============================] - 0s 95us/step - loss: 0.3912 - acc: 0.8384\n",
      "Epoch 58/150\n",
      "891/891 [==============================] - 0s 60us/step - loss: 0.3925 - acc: 0.8361\n",
      "Epoch 59/150\n",
      "891/891 [==============================] - 0s 106us/step - loss: 0.3928 - acc: 0.8373\n",
      "Epoch 60/150\n",
      "891/891 [==============================] - 0s 94us/step - loss: 0.3898 - acc: 0.8451\n",
      "Epoch 61/150\n",
      "891/891 [==============================] - 0s 87us/step - loss: 0.3916 - acc: 0.8260\n",
      "Epoch 62/150\n",
      "891/891 [==============================] - 0s 144us/step - loss: 0.3910 - acc: 0.8440\n",
      "Epoch 63/150\n",
      "891/891 [==============================] - 0s 106us/step - loss: 0.3896 - acc: 0.8440\n",
      "Epoch 64/150\n",
      "891/891 [==============================] - 0s 91us/step - loss: 0.3913 - acc: 0.8406\n",
      "Epoch 65/150\n",
      "891/891 [==============================] - 0s 134us/step - loss: 0.3919 - acc: 0.8373\n",
      "Epoch 66/150\n",
      "891/891 [==============================] - 0s 109us/step - loss: 0.3911 - acc: 0.8395\n",
      "Epoch 67/150\n",
      "891/891 [==============================] - 0s 90us/step - loss: 0.3886 - acc: 0.8418\n",
      "Epoch 68/150\n",
      "891/891 [==============================] - 0s 111us/step - loss: 0.3898 - acc: 0.8316\n",
      "Epoch 69/150\n",
      "891/891 [==============================] - 0s 104us/step - loss: 0.3900 - acc: 0.8339\n",
      "Epoch 70/150\n",
      "891/891 [==============================] - 0s 75us/step - loss: 0.3890 - acc: 0.8462\n",
      "Epoch 71/150\n",
      "891/891 [==============================] - 0s 68us/step - loss: 0.3952 - acc: 0.8328\n",
      "Epoch 72/150\n",
      "891/891 [==============================] - 0s 100us/step - loss: 0.3938 - acc: 0.8328\n",
      "Epoch 73/150\n",
      "891/891 [==============================] - 0s 109us/step - loss: 0.3889 - acc: 0.8339\n",
      "Epoch 74/150\n",
      "891/891 [==============================] - 0s 112us/step - loss: 0.3889 - acc: 0.8328\n",
      "Epoch 75/150\n",
      "891/891 [==============================] - 0s 108us/step - loss: 0.3889 - acc: 0.8373\n",
      "Epoch 76/150\n",
      "891/891 [==============================] - 0s 100us/step - loss: 0.3872 - acc: 0.8384\n",
      "Epoch 77/150\n",
      "891/891 [==============================] - 0s 120us/step - loss: 0.3882 - acc: 0.8373\n",
      "Epoch 78/150\n",
      "891/891 [==============================] - 0s 115us/step - loss: 0.3886 - acc: 0.8373\n",
      "Epoch 79/150\n",
      "891/891 [==============================] - 0s 107us/step - loss: 0.3905 - acc: 0.8395\n",
      "Epoch 80/150\n",
      "891/891 [==============================] - 0s 109us/step - loss: 0.3953 - acc: 0.8305\n",
      "Epoch 81/150\n",
      "891/891 [==============================] - 0s 111us/step - loss: 0.3884 - acc: 0.8350\n",
      "Epoch 82/150\n",
      "891/891 [==============================] - 0s 107us/step - loss: 0.3874 - acc: 0.8384\n",
      "Epoch 83/150\n",
      "891/891 [==============================] - 0s 114us/step - loss: 0.3869 - acc: 0.8373\n",
      "Epoch 84/150\n",
      "891/891 [==============================] - 0s 100us/step - loss: 0.3888 - acc: 0.8373\n",
      "Epoch 85/150\n",
      "891/891 [==============================] - 0s 73us/step - loss: 0.3866 - acc: 0.8384\n",
      "Epoch 86/150\n",
      "891/891 [==============================] - 0s 86us/step - loss: 0.3873 - acc: 0.8406\n",
      "Epoch 87/150\n",
      "891/891 [==============================] - 0s 118us/step - loss: 0.3860 - acc: 0.8384\n",
      "Epoch 88/150\n",
      "891/891 [==============================] - 0s 131us/step - loss: 0.3874 - acc: 0.8339\n",
      "Epoch 89/150\n",
      "891/891 [==============================] - 0s 132us/step - loss: 0.3868 - acc: 0.8339\n",
      "Epoch 90/150\n",
      "891/891 [==============================] - 0s 99us/step - loss: 0.3874 - acc: 0.8350\n",
      "Epoch 91/150\n",
      "891/891 [==============================] - 0s 50us/step - loss: 0.3869 - acc: 0.8328\n",
      "Epoch 92/150\n",
      "891/891 [==============================] - 0s 112us/step - loss: 0.3869 - acc: 0.8361\n",
      "Epoch 93/150\n",
      "891/891 [==============================] - 0s 95us/step - loss: 0.3875 - acc: 0.8373\n",
      "Epoch 94/150\n",
      "891/891 [==============================] - 0s 120us/step - loss: 0.3860 - acc: 0.8260\n",
      "Epoch 95/150\n",
      "891/891 [==============================] - 0s 113us/step - loss: 0.3866 - acc: 0.8350\n",
      "Epoch 96/150\n",
      "891/891 [==============================] - 0s 107us/step - loss: 0.3866 - acc: 0.8339\n",
      "Epoch 97/150\n",
      "891/891 [==============================] - 0s 101us/step - loss: 0.3851 - acc: 0.8384\n",
      "Epoch 98/150\n",
      "891/891 [==============================] - 0s 133us/step - loss: 0.3889 - acc: 0.8395\n",
      "Epoch 99/150\n",
      "891/891 [==============================] - 0s 93us/step - loss: 0.3858 - acc: 0.8384\n",
      "Epoch 100/150\n",
      "891/891 [==============================] - 0s 95us/step - loss: 0.3861 - acc: 0.8328\n",
      "Epoch 101/150\n",
      "891/891 [==============================] - 0s 88us/step - loss: 0.3847 - acc: 0.8373\n",
      "Epoch 102/150\n",
      "891/891 [==============================] - 0s 51us/step - loss: 0.3877 - acc: 0.8361\n",
      "Epoch 103/150\n",
      "891/891 [==============================] - 0s 72us/step - loss: 0.3859 - acc: 0.8361\n",
      "Epoch 104/150\n",
      "891/891 [==============================] - 0s 133us/step - loss: 0.3850 - acc: 0.8373\n",
      "Epoch 105/150\n",
      "891/891 [==============================] - 0s 103us/step - loss: 0.3864 - acc: 0.8384\n",
      "Epoch 106/150\n",
      "891/891 [==============================] - 0s 101us/step - loss: 0.3849 - acc: 0.8350\n",
      "Epoch 107/150\n",
      "891/891 [==============================] - 0s 127us/step - loss: 0.3884 - acc: 0.8361\n",
      "Epoch 108/150\n",
      "891/891 [==============================] - 0s 118us/step - loss: 0.3851 - acc: 0.8373\n",
      "Epoch 109/150\n",
      "891/891 [==============================] - 0s 107us/step - loss: 0.3838 - acc: 0.8328\n",
      "Epoch 110/150\n",
      "891/891 [==============================] - 0s 105us/step - loss: 0.3842 - acc: 0.8350\n",
      "Epoch 111/150\n",
      "891/891 [==============================] - 0s 116us/step - loss: 0.3846 - acc: 0.8328\n",
      "Epoch 112/150\n",
      "891/891 [==============================] - 0s 115us/step - loss: 0.3847 - acc: 0.8350\n",
      "Epoch 113/150\n",
      "891/891 [==============================] - 0s 121us/step - loss: 0.3825 - acc: 0.8350\n",
      "Epoch 114/150\n",
      "891/891 [==============================] - 0s 114us/step - loss: 0.3833 - acc: 0.8373\n",
      "Epoch 115/150\n",
      "891/891 [==============================] - 0s 144us/step - loss: 0.3838 - acc: 0.8350\n",
      "Epoch 116/150\n",
      "891/891 [==============================] - 0s 99us/step - loss: 0.3862 - acc: 0.8361\n",
      "Epoch 117/150\n",
      "891/891 [==============================] - 0s 82us/step - loss: 0.3881 - acc: 0.8305\n",
      "Epoch 118/150\n",
      "891/891 [==============================] - 0s 133us/step - loss: 0.3856 - acc: 0.8328\n",
      "Epoch 119/150\n",
      "891/891 [==============================] - 0s 88us/step - loss: 0.3834 - acc: 0.8361\n",
      "Epoch 120/150\n",
      "891/891 [==============================] - 0s 112us/step - loss: 0.3855 - acc: 0.8316\n",
      "Epoch 121/150\n",
      "891/891 [==============================] - 0s 110us/step - loss: 0.3881 - acc: 0.8283\n",
      "Epoch 122/150\n",
      "891/891 [==============================] - 0s 108us/step - loss: 0.3841 - acc: 0.8328\n",
      "Epoch 123/150\n",
      "891/891 [==============================] - 0s 111us/step - loss: 0.3835 - acc: 0.8406\n",
      "Epoch 124/150\n",
      "891/891 [==============================] - 0s 100us/step - loss: 0.3856 - acc: 0.8294\n",
      "Epoch 125/150\n",
      "891/891 [==============================] - 0s 111us/step - loss: 0.3831 - acc: 0.8350\n",
      "Epoch 126/150\n",
      "891/891 [==============================] - 0s 119us/step - loss: 0.3834 - acc: 0.8373\n",
      "Epoch 127/150\n",
      "891/891 [==============================] - 0s 97us/step - loss: 0.3834 - acc: 0.8339\n",
      "Epoch 128/150\n",
      "891/891 [==============================] - 0s 105us/step - loss: 0.3854 - acc: 0.8373\n",
      "Epoch 129/150\n",
      "891/891 [==============================] - 0s 129us/step - loss: 0.3827 - acc: 0.8373\n",
      "Epoch 130/150\n",
      "891/891 [==============================] - 0s 102us/step - loss: 0.3833 - acc: 0.8350\n",
      "Epoch 131/150\n",
      "891/891 [==============================] - 0s 107us/step - loss: 0.3840 - acc: 0.8395\n",
      "Epoch 132/150\n",
      "891/891 [==============================] - 0s 107us/step - loss: 0.3830 - acc: 0.8361\n",
      "Epoch 133/150\n",
      "891/891 [==============================] - 0s 104us/step - loss: 0.3821 - acc: 0.8429\n",
      "Epoch 134/150\n",
      "891/891 [==============================] - 0s 111us/step - loss: 0.3841 - acc: 0.8316\n",
      "Epoch 135/150\n",
      "891/891 [==============================] - 0s 92us/step - loss: 0.3855 - acc: 0.8316\n",
      "Epoch 136/150\n",
      "891/891 [==============================] - 0s 97us/step - loss: 0.3832 - acc: 0.8328\n",
      "Epoch 137/150\n",
      "891/891 [==============================] - 0s 86us/step - loss: 0.3825 - acc: 0.8316\n",
      "Epoch 138/150\n",
      "891/891 [==============================] - 0s 124us/step - loss: 0.3819 - acc: 0.8395\n",
      "Epoch 139/150\n",
      "891/891 [==============================] - 0s 133us/step - loss: 0.3830 - acc: 0.8373\n",
      "Epoch 140/150\n",
      "891/891 [==============================] - 0s 107us/step - loss: 0.3806 - acc: 0.8429\n",
      "Epoch 141/150\n",
      "891/891 [==============================] - 0s 109us/step - loss: 0.3874 - acc: 0.8406\n",
      "Epoch 142/150\n",
      "891/891 [==============================] - 0s 127us/step - loss: 0.3886 - acc: 0.8305\n",
      "Epoch 143/150\n",
      "891/891 [==============================] - 0s 104us/step - loss: 0.3801 - acc: 0.8373\n",
      "Epoch 144/150\n",
      "891/891 [==============================] - 0s 101us/step - loss: 0.3832 - acc: 0.8294\n",
      "Epoch 145/150\n",
      "891/891 [==============================] - 0s 108us/step - loss: 0.3830 - acc: 0.8350\n",
      "Epoch 146/150\n",
      "891/891 [==============================] - 0s 122us/step - loss: 0.3825 - acc: 0.8373\n",
      "Epoch 147/150\n",
      "891/891 [==============================] - 0s 103us/step - loss: 0.3812 - acc: 0.8418\n",
      "Epoch 148/150\n",
      "891/891 [==============================] - 0s 104us/step - loss: 0.3814 - acc: 0.8294\n",
      "Epoch 149/150\n",
      "891/891 [==============================] - 0s 102us/step - loss: 0.3794 - acc: 0.8361\n",
      "Epoch 150/150\n",
      "891/891 [==============================] - 0s 101us/step - loss: 0.3808 - acc: 0.8316\n"
     ]
    },
    {
     "data": {
      "text/plain": [
       "<keras.callbacks.History at 0x7f0647728438>"
      ]
     },
     "execution_count": 11,
     "metadata": {},
     "output_type": "execute_result"
    }
   ],
   "source": [
    "model = Sequential()\n",
    "\n",
    "model.add(Dense(units = 20, kernel_initializer = 'uniform', activation = 'relu', input_dim = 27))\n",
    "model.add(Dense(units = 15, kernel_initializer = 'uniform', activation = 'relu'))\n",
    "model.add(Dense(units = 5, kernel_initializer = 'uniform', activation = 'relu'))\n",
    "model.add(Dense(units = 1, kernel_initializer = 'uniform', activation = 'sigmoid'))\n",
    "\n",
    "# Compiling the ANN\n",
    "model.compile(optimizer = 'adam', loss = 'binary_crossentropy', metrics = ['accuracy'])\n",
    "\n",
    "# Train the ANN\n",
    "model.fit(X_train, y_train, batch_size = 32, epochs = 150)"
   ]
  },
  {
   "cell_type": "code",
   "execution_count": 12,
   "metadata": {
    "_cell_guid": "71f5f535-2524-4aa7-bc8c-1af7b8ac0cf7",
    "_uuid": "b48becc5a3997b6fe64e379fc6c07c69b3a4e0f6"
   },
   "outputs": [
    {
     "name": "stdout",
     "output_type": "stream",
     "text": [
      "891/891 [==============================] - 0s 73us/step\n",
      "\n",
      "acc: 83.28%\n"
     ]
    }
   ],
   "source": [
    "scores = model.evaluate(X_train, y_train)\n",
    "print(\"\\n%s: %.2f%%\" % (model.metrics_names[1], scores[1]*100))"
   ]
  },
  {
   "cell_type": "code",
   "execution_count": 13,
   "metadata": {
    "_cell_guid": "fe256cc7-a005-40ac-844d-9803f3b3a988",
    "_uuid": "8121b71a7dbe6f115f70e2f08811c9b158ae4877",
    "collapsed": true
   },
   "outputs": [],
   "source": [
    "y_pred = model.predict(X_test)\n",
    "y_final = (y_pred > 0.5).astype(int).reshape(X_test.shape[0])\n",
    "output = pd.DataFrame({'PassengerId': test['PassengerId'], 'Survived': y_final})\n",
    "\n",
    "output.to_csv('titanic_02.csv', index=False)"
   ]
  },
  {
   "cell_type": "code",
   "execution_count": 14,
   "metadata": {
    "collapsed": true
   },
   "outputs": [],
   "source": []
  }
 ],
 "metadata": {
  "kernelspec": {
   "display_name": "Python 3",
   "language": "python",
   "name": "python3"
  },
  "language_info": {
   "codemirror_mode": {
    "name": "ipython",
    "version": 3
   },
   "file_extension": ".py",
   "mimetype": "text/x-python",
   "name": "python",
   "nbconvert_exporter": "python",
   "pygments_lexer": "ipython3",
   "version": "3.6.4"
  }
 },
 "nbformat": 4,
 "nbformat_minor": 1
}
