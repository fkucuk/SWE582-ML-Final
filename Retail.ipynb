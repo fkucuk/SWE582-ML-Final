{
  "nbformat": 4,
  "metadata": {
    "language_info": {
      "name": "python",
      "pygments_lexer": "ipython3",
      "file_extension": ".py",
      "codemirror_mode": {
        "version": 3,
        "name": "ipython"
      },
      "nbconvert_exporter": "python",
      "mimetype": "text/x-python",
      "version": "3.6.4"
    },
    "kernelspec": {
      "display_name": "Python 3",
      "language": "python",
      "name": "python3"
    }
  },
  "cells": [
    {
      "cell_type": "markdown",
      "metadata": {
        "_cell_guid": "1a70d8f6-5890-4a9c-a88b-2379951d85a8",
        "_uuid": "b80f6128ee1c64c0a1679cd2a8f9045bb12a02a8"
      },
      "source": [
        "## Data Explanation ##\n",
        "\n",
        "**Stores**\n",
        "* Store: The store number. Range from 1-45.\n",
        "* Type: Three types of stores ‘A’, ‘B’ or ‘C’.\n",
        "* Size: Sets the size of a Store would be calculated by the no. of products available in the particular store ranging from 34,000 to 210,000.\n",
        "\n",
        "**Features**\n",
        "* Store: The store which observation in recorded 1-45.\n",
        "* Date: The date of the week where this observation was taken. \n",
        "* Temperature: Temperature of the region during that week.\n",
        "* Fuel_Price: Fuel Price in that region during that week.\n",
        "* MarkDown1:5 : Represents the Type of markdown and what quantity was available during that week.\n",
        "* CPI: Consumer Price Index during that week.\n",
        "* Unemployment: The unemployment rate during that week in the region of the store.\n",
        "* IsHoliday: Boolean value representing a holiday week or not.\n",
        "\n",
        "**Sales**\n",
        "* Store: The store which observation in recorded 1-45.\n",
        "* Dept: One of 1-99 that shows the department.\n",
        "* Date: The date of the week where this observation was taken. \n",
        "* Weekly_Sales: The sales recorded during that Week.\n",
        "* IsHoliday: Boolean value representing a holiday week or not."
      ]
    },
    {
      "cell_type": "code",
      "execution_count": null,
      "metadata": {
        "_cell_guid": "e5f6ce5d-4a69-4618-9f38-48e652e26a86",
        "_kg_hide-output": false,
        "_kg_hide-input": false,
        "_uuid": "ad4dc9d9b695444260bd112df889171d099ce9e6"
      },
      "source": [
        "import numpy as np # linear algebra\n",
        "import pandas as pd # data processing, CSV file I/O (e.g. pd.read_csv)\n",
        "from prettytable import PrettyTable\n",
        "import seaborn as sns\n",
        "\n",
        "import matplotlib.pyplot as plt\n",
        "from sklearn.model_selection import cross_val_score, train_test_split\n",
        "from sklearn.preprocessing import StandardScaler\n",
        "from sklearn.linear_model import LinearRegression, RidgeCV, LassoCV, ElasticNetCV\n",
        "from sklearn.ensemble import ExtraTreesRegressor, AdaBoostRegressor\n",
        "from sklearn.neighbors import KNeighborsRegressor\n",
        "from sklearn.tree import DecisionTreeRegressor\n",
        "from sklearn.metrics import mean_squared_error, make_scorer, mean_absolute_error, r2_score\n",
        "from scipy.stats import skew\n",
        "\n",
        "from subprocess import check_output\n",
        "print(check_output([\"ls\", \"../input\"]).decode(\"utf8\"))\n",
        "\n",
        "%matplotlib inline\n",
        "\n",
        "stores = pd.read_csv('../input/stores data-set.csv')\n",
        "features = pd.read_csv('../input/Features data set.csv')\n",
        "sales = pd.read_csv('../input/sales data-set.csv')\n",
        "\n",
        "pt = PrettyTable(['data', 'dimension'])\n",
        "pt.add_row(['stores', stores.shape])\n",
        "pt.add_row(['features', features.shape])\n",
        "pt.add_row(['sales', sales.shape])\n",
        "\n",
        "print(pt, '\\n')\n"
      ],
      "outputs": []
    },
    {
      "cell_type": "code",
      "execution_count": null,
      "metadata": {
        "_cell_guid": "06006f98-bf51-4b7c-b8c0-348e2471617c",
        "_uuid": "aa4510349f1aeaea1f252c2e3303a45576cc0195"
      },
      "source": [
        "#Denormalize data for easy processing\n",
        "denorm = pd.merge(sales, features, how = 'left', on=['Store', 'Date', 'IsHoliday'])\n",
        "denorm = pd.merge(denorm, stores, how = 'left', on=['Store'])\n",
        "\n",
        "denorm['IsReturn'] = ((denorm['Weekly_Sales'] < 0))\n",
        "denorm = denorm.drop(['MarkDown1', 'MarkDown2', 'MarkDown3', 'MarkDown4', 'MarkDown5'], axis = 1)\n",
        "\n",
        "denorm['Date'] = pd.to_datetime(denorm['Date'], format=\"%d/%m/%Y\")\n",
        "#Sales Only\n",
        "#denormSales = denorm.loc[denorm['IsReturn'] == 0]\n",
        "denormSales = denorm.copy()\n",
        "denormSales = denormSales.assign(IsHolidayInt = [int(x) for x in list(denormSales.IsHoliday)])\n",
        "\n",
        "print(denormSales.columns.tolist())"
      ],
      "outputs": []
    },
    {
      "cell_type": "code",
      "execution_count": null,
      "metadata": {
        "_cell_guid": "bc9fcc12-94d2-444f-b545-6994e28fa0e1",
        "_uuid": "82d211ce651c17fffe40466f049ac393ee23037a"
      },
      "source": [
        "denormSales.describe().transpose()"
      ],
      "outputs": []
    },
    {
      "cell_type": "code",
      "execution_count": null,
      "metadata": {
        "_cell_guid": "f69f6860-9618-45aa-ac98-fbe8b6471a46",
        "_uuid": "6de0acb26360a7ca64cad9229506393e164f8602",
        "collapsed": true
      },
      "source": [
        "#scatterplot\n",
        "sns.set()\n",
        "cols = ['Weekly_Sales', 'Temperature', 'Fuel_Price', 'CPI', 'Size', 'IsHoliday', 'Type', 'Dept']\n",
        "sns.pairplot(denormSales[cols], size = 5)\n",
        "plt.show()\n"
      ],
      "outputs": []
    },
    {
      "cell_type": "code",
      "execution_count": null,
      "metadata": {
        "_cell_guid": "fad32c27-4b42-4a1f-9918-6f1779843e3f",
        "_uuid": "50c6c5a64dee8ea9bd285cd57d363ea0ec879dcf",
        "scrolled": true
      },
      "source": [
        "corrmat = denormSales[['Weekly_Sales', 'Temperature', 'Fuel_Price', 'CPI', 'Unemployment', 'Type', 'Size', 'Dept']].corr()\n",
        "\n",
        "#print(corrmat)\n",
        "\n",
        "f, ax = plt.subplots(figsize=(12, 9))\n",
        "sns.heatmap(corrmat, vmax=.8, square=True, annot=True);\n",
        "#print(denorm)"
      ],
      "outputs": []
    },
    {
      "cell_type": "code",
      "execution_count": null,
      "metadata": {
        "_cell_guid": "a7f0a792-1cb1-4bb9-b9ae-680f8da2ca46",
        "_uuid": "dcc3e7ebf2113210eba85a607cb47d65aa73b4b0",
        "scrolled": true
      },
      "source": [
        "sales_week = denormSales.groupby(by=['Date'], as_index=False)['Weekly_Sales'].sum()\n",
        "plt.figure(figsize=(25,12))\n",
        "plt.plot(sales_week.Date, sales_week.Weekly_Sales)\n",
        "plt.show()"
      ],
      "outputs": []
    },
    {
      "cell_type": "code",
      "execution_count": null,
      "metadata": {
        "_cell_guid": "88439ef0-758d-43a7-a59c-91cdfde0a38d",
        "_uuid": "9e7e53d8504b9052be358ed18e200e753513c332"
      },
      "source": [
        "denormSales = denormSales.assign(year = denormSales.Date.dt.year)\n",
        "denormSales = denormSales.assign(week = denormSales.Date.dt.week)\n",
        "denormSales = denormSales.assign(yearweek = denormSales.year * 100 + denormSales.week)\n",
        "denormSales.head()"
      ],
      "outputs": []
    },
    {
      "cell_type": "code",
      "execution_count": null,
      "metadata": {},
      "source": [
        "dept_sales = denormSales.groupby(by=(['Dept', 'year']), as_index=False)['Weekly_Sales'].sum()\n",
        "top_depts = dept_sales.nlargest(30, 'Weekly_Sales')\n",
        "sns.set(style=\"whitegrid\")\n",
        "g = sns.factorplot(x=\"year\", y=\"Weekly_Sales\", hue=\"Dept\", data=top_depts,\n",
        "                   size=10, kind=\"bar\", palette=\"Set1\")\n",
        "g.despine(left=True)\n",
        "g.set_ylabels(\"department sale contribution\")\n",
        "\n",
        "\n",
        "\n",
        "bottom_depts = dept_sales.nsmallest(30, 'Weekly_Sales')\n",
        "sns.set(style=\"whitegrid\")\n",
        "g = sns.factorplot(x=\"year\", y=\"Weekly_Sales\", hue=\"Dept\", data=bottom_depts,\n",
        "                   size=10, kind=\"bar\", palette=\"muted\")\n",
        "g.despine(left=True)\n",
        "g.set_ylabels(\"department sale contribution\")"
      ],
      "outputs": []
    },
    {
      "cell_type": "code",
      "execution_count": null,
      "metadata": {
        "_cell_guid": "ad0967de-ad53-4706-ad48-01332b894de3",
        "_uuid": "92463db82635fef88db6f581c9d4e99a4dc61642"
      },
      "source": [
        "train1 = denormSales.loc[denormSales['year'] != 2012]\n",
        "test1 = denormSales.loc[denormSales['year'] == 2012]\n",
        "\n",
        "featureset1 = ['Store', 'Dept', 'Temperature', 'Fuel_Price', 'CPI', 'Unemployment', 'IsHolidayInt', 'Size']\n",
        "\n",
        "x_train1 = train1[featureset1]\n",
        "y_train1 = train1['Weekly_Sales']\n",
        "\n",
        "x_test1 = test1[featureset1]\n",
        "y_test1 = test1['Weekly_Sales']\n",
        "\n",
        "lr = LinearRegression()\n",
        "lr.fit(x_train1, y_train1)\n",
        "\n",
        "y_pred1 = lr.predict(x_test1)\n",
        "\n",
        "y_train_pred1 = lr.predict(x_train1)\n",
        "\n",
        "print(\"Score: \", lr.score(x_test1, y_test1))\n",
        "\n",
        "print(\"x_train1.shape:\", x_train1.shape)\n",
        "print(\"y_train1.shape:\", y_train1.shape)\n",
        "print(\"x_test1.shape:\", x_test1.shape)\n",
        "print(\"y_test1.shape:\", y_test1.shape)\n",
        "print(\"y_pred1.shape:\", y_pred1.shape)\n",
        "print(\"y_train_pred1.shape\", y_train_pred1.shape)\n",
        "\n",
        "print (\"Fit a model X_train, and calculate MSE with Y_train:\", \n",
        "       np.mean((y_train1 - y_train_pred1) ** 2))\n",
        "print (\"Fit a model X_train, and calculate MSE with X_test, Y_test:\", \n",
        "       np.mean((y_test1 - y_pred1) ** 2))\n",
        "\n",
        "# The coefficients\n",
        "print('Coefficients: \\n', lr.coef_)\n",
        "# The mean squared error\n",
        "print(\"Mean squared error: %.2f\"\n",
        "      % mean_squared_error(y_test1, y_pred1))\n",
        "# Explained variance score: 1 is perfect prediction\n",
        "print('Variance score: %.2f' % r2_score(y_test1, y_pred1))\n",
        "\n",
        "# Plot residuals\n",
        "plt.figure(figsize=(12,6))\n",
        "plt.scatter(y_train_pred1, y_train_pred1 - y_train1, c = \"blue\", marker = \"s\", label = \"Training data\")\n",
        "plt.scatter(y_pred1, y_pred1 - y_test1, c = \"lightgreen\", marker = \"s\", label = \"Validation data\")\n",
        "plt.title(\"Linear regression\")\n",
        "plt.xlabel(\"Predicted values\")\n",
        "plt.ylabel(\"Residuals\")\n",
        "plt.legend(loc = \"upper left\")\n",
        "plt.hlines(y = 0, xmin = 0, xmax = 30000, color = \"red\")\n",
        "plt.show()\n",
        "\n",
        "# Plot predictions\n",
        "plt.figure(figsize=(12,6))\n",
        "plt.scatter(y_train_pred1, y_train1, c = \"blue\", marker = \"s\", label = \"Training data\")\n",
        "plt.scatter(y_pred1, y_test1, c = \"lightgreen\", marker = \"s\", label = \"Validation data\")\n",
        "plt.title(\"Linear regression\")\n",
        "plt.xlabel(\"Predicted values\")\n",
        "plt.ylabel(\"Real values\")\n",
        "plt.legend(loc = \"upper left\")\n",
        "#plt.plot([10.5, 13.5], [10.5, 13.5], c = \"red\")\n",
        "plt.show()"
      ],
      "outputs": []
    },
    {
      "cell_type": "code",
      "execution_count": null,
      "metadata": {
        "_cell_guid": "8adbb602-2aee-4dc0-8cf6-110d875c822b",
        "_uuid": "4a09d8d2b146359f127de9f8c1cb28024a2681f0",
        "collapsed": true
      },
      "source": [
        "train2 = denormSales.loc[denormSales['year'] != 2012]\n",
        "test2 = denormSales.loc[denormSales['year'] == 2012]\n",
        "\n",
        "featureset2 = ['Store', 'Dept', 'Temperature', 'Fuel_Price', 'CPI', 'Unemployment', 'IsHolidayInt', 'Size']\n",
        "\n",
        "x_train2 = train2[featureset2]\n",
        "y_train2 = train2['Weekly_Sales']\n",
        "\n",
        "x_test2 = test2[featureset2]\n",
        "y_test2 = test2['Weekly_Sales']\n",
        "\n",
        "etr = ExtraTreesRegressor(n_estimators=200)\n",
        "etr.fit(x_train2, y_train2)\n",
        "y_pred2 = etr.predict(x_test2)\n",
        "\n",
        "y_train_pred2 = etr.predict(x_train2)\n",
        "\n",
        "print(etr.score(x_test2, y_test2))\n",
        "\n",
        "print (\"Fit a model X_train, and calculate MSE with Y_train:\", \n",
        "       np.mean((y_train2 - y_train_pred2) ** 2))\n",
        "print (\"Fit a model X_train, and calculate MSE with X_test, Y_test:\", \n",
        "       np.mean((y_test2 - y_pred2) ** 2))\n",
        "\n",
        "# Plot residuals\n",
        "plt.figure(figsize=(12,6))\n",
        "plt.plot(y_train_pred2, y_train_pred2 - y_train2, c = \"blue\", marker = \"s\", label = \"Training data\")\n",
        "plt.scatter(y_pred2, y_pred2 - y_test2, c = \"lightgreen\", marker = \"s\", label = \"Validation data\")\n",
        "plt.title(\"ExtraTreesRegressor\")\n",
        "plt.xlabel(\"Predicted values\")\n",
        "plt.ylabel(\"Residuals\")\n",
        "plt.legend(loc = \"upper left\")\n",
        "#plt.hlines(y = 0, xmin = 10.5, xmax = 13.5, color = \"red\")\n",
        "plt.show()\n",
        "\n",
        "# Plot predictions\n",
        "plt.figure(figsize=(12,6))\n",
        "plt.plot(y_train_pred2, y_train2, c = \"blue\", marker = \"s\", label = \"Training data\")\n",
        "plt.scatter(y_pred2, y_test2, c = \"lightgreen\", marker = \"s\", label = \"Validation data\")\n",
        "plt.title(\"ExtraTreesRegressor\")\n",
        "plt.xlabel(\"Predicted values\")\n",
        "plt.ylabel(\"Real values\")\n",
        "plt.legend(loc = \"upper left\")\n",
        "#plt.plot([10.5, 13.5], [10.5, 13.5], c = \"red\")\n",
        "plt.show()"
      ],
      "outputs": []
    },
    {
      "cell_type": "code",
      "execution_count": null,
      "metadata": {
        "_cell_guid": "291340c7-bfe0-4fc2-a7e6-e04da8b9f0ca",
        "_uuid": "9ccc9a9552b31b25d63dd32ada564e093a61b368",
        "collapsed": true
      },
      "source": [
        "dtr = DecisionTreeRegressor()\n",
        "dtr.fit(x_train2, y_train2)\n",
        "y_pred2 = dtr.predict(x_test2)\n",
        "y_train_pred2 = dtr.predict(x_train2)\n",
        "print (\"Fit a model X_train, and calculate MSE with Y_train:\", \n",
        "       np.mean((y_train2 - y_train_pred2) ** 2))\n",
        "print (\"Fit a model X_train, and calculate MSE with X_test, Y_test:\", \n",
        "       np.mean((y_test2 - y_pred2) ** 2))\n"
      ],
      "outputs": []
    },
    {
      "cell_type": "code",
      "execution_count": null,
      "metadata": {
        "_cell_guid": "3e706bb5-9a92-48af-b143-808895fb10c4",
        "_uuid": "07ea03f72c91ccf440e17c629dfa02ea3258119c",
        "collapsed": true
      },
      "source": [
        "abr = AdaBoostRegressor(DecisionTreeRegressor())\n",
        "abr.fit(x_train2, y_train2)\n",
        "y_pred3 = abr.predict(x_test2)\n",
        "y_train_pred2 = abr.predict(x_train2)\n",
        "print (\"Fit a model X_train, and calculate MSE with Y_train:\", \n",
        "       np.mean((y_train2 - y_train_pred2) ** 2))\n",
        "print (\"Fit a model X_train, and calculate MSE with X_test, Y_test:\", \n",
        "       np.mean((y_test2 - y_pred3) ** 2))"
      ],
      "outputs": []
    },
    {
      "cell_type": "code",
      "execution_count": null,
      "metadata": {
        "_cell_guid": "3ab4b951-10ce-4195-b0e1-50da1951be81",
        "_uuid": "1e832e2a897527ff4216eb0475ff344ce23c8182",
        "collapsed": true
      },
      "source": [
        "# Plot residuals\n",
        "plt.figure(figsize=(12,6))\n",
        "plt.plot(y_train_pred2, y_train_pred2 - y_train2, c = \"blue\", marker = \"s\", label = \"Training data\")\n",
        "plt.scatter(y_pred3, y_pred3 - y_test2, c = \"lightgreen\", marker = \"s\", label = \"Validation data\")\n",
        "plt.title(\"ExtraTreesRegressor\")\n",
        "plt.xlabel(\"Predicted values\")\n",
        "plt.ylabel(\"Residuals\")\n",
        "plt.legend(loc = \"upper left\")\n",
        "#plt.hlines(y = 0, xmin = 10.5, xmax = 13.5, color = \"red\")\n",
        "plt.show()"
      ],
      "outputs": []
    },
    {
      "cell_type": "code",
      "execution_count": null,
      "metadata": {
        "_cell_guid": "9ceeb5e3-9eb3-4eb6-b593-725c0fd63a06",
        "_uuid": "925e1bb81b6e2b368777038b0c766904f7608b4b",
        "collapsed": true
      },
      "source": [],
      "outputs": []
    }
  ],
  "nbformat_minor": 1
}
